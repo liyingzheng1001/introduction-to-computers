{
  "nbformat": 4,
  "nbformat_minor": 0,
  "metadata": {
    "colab": {
      "name": "0509.ipynb",
      "provenance": [],
      "authorship_tag": "ABX9TyNiDpr/vaYh+QoxfDVyhxIq",
      "include_colab_link": true
    },
    "kernelspec": {
      "name": "python3",
      "display_name": "Python 3"
    },
    "language_info": {
      "name": "python"
    }
  },
  "cells": [
    {
      "cell_type": "markdown",
      "metadata": {
        "id": "view-in-github",
        "colab_type": "text"
      },
      "source": [
        "<a href=\"https://colab.research.google.com/github/liyingzheng1001/introduction-to-computers/blob/main/0509.ipynb\" target=\"_parent\"><img src=\"https://colab.research.google.com/assets/colab-badge.svg\" alt=\"Open In Colab\"/></a>"
      ]
    },
    {
      "cell_type": "code",
      "execution_count": null,
      "metadata": {
        "colab": {
          "base_uri": "https://localhost:8080/"
        },
        "id": "iAPCYyiX7kRa",
        "outputId": "20c96a9f-16bd-4567-8807-9f556a189dc3"
      },
      "outputs": [
        {
          "output_type": "stream",
          "name": "stdout",
          "text": [
            "123\n"
          ]
        }
      ],
      "source": [
        "print(\"123\")"
      ]
    },
    {
      "cell_type": "code",
      "source": [
        "temp=float(input(\"請輸入你的體溫\"))\n",
        "if temp >= 37.5:\n",
        "  print(\"體溫過高!\")\n",
        "elif temp >= 37 and temp < 37.4:\n",
        "  print(\"體溫略高!\")\n",
        "\n",
        "elif temp >= 34 and temp <= 36.9:\n",
        "  print(\"體溫正常!\")\n",
        "else :\n",
        "  print(\"體溫常,請重新測量!\")\n"
      ],
      "metadata": {
        "colab": {
          "base_uri": "https://localhost:8080/"
        },
        "id": "zvtw_Hiu8l7Y",
        "outputId": "f6a8dedd-16c6-49c7-940c-014cecfdf228"
      },
      "execution_count": null,
      "outputs": [
        {
          "output_type": "stream",
          "name": "stdout",
          "text": [
            "請輸入你的體溫36.5\n",
            "體溫正常!\n"
          ]
        }
      ]
    },
    {
      "cell_type": "code",
      "source": [
        "score=float(input(\"請輸入成績\"))\n",
        "if (int(score) >= 90):\n",
        "  print(\"A\")\n",
        "elif (int(score) >= 80):\n",
        "  print(\"B\")\n",
        "elif (int(score) >= 70):\n",
        "  print(\"C\")\n",
        "elif (int(score) >= 60):\n",
        "  print(\"D\")\n",
        "else :\n",
        "  print(\"E\")"
      ],
      "metadata": {
        "colab": {
          "base_uri": "https://localhost:8080/"
        },
        "id": "dGzCJUDN_zum",
        "outputId": "163be349-836f-483f-86eb-b4affdc4be04"
      },
      "execution_count": null,
      "outputs": [
        {
          "output_type": "stream",
          "name": "stdout",
          "text": [
            "請輸入成績85\n",
            "B\n"
          ]
        }
      ]
    },
    {
      "cell_type": "code",
      "source": [
        "money = int(input(\"請輸入購物金額:\"))\n",
        "if (money >= 10000):\n",
        "  if (money >= 100000):\n",
        "     print(\"八折\", money *0.8, end = \"元\\n\")\n",
        "  elif(money >= 50000):\n",
        "     print(\"八五折\", money *0.85, end = \"元\\n\")\n",
        "  elif(money >= 30000):\n",
        "     print(\"九折\", money *0.9, end = \"元\\n\")\n",
        "  else:\n",
        "     print(\"九五折\", money *0.95, end = \"元\\n\")\n",
        "else:\n",
        "  print(\"沒打折\",money, end = \"元\\n\")"
      ],
      "metadata": {
        "colab": {
          "base_uri": "https://localhost:8080/"
        },
        "id": "WWFUrib5TNlX",
        "outputId": "508b2adb-5967-412d-df96-25f08c34c9a4"
      },
      "execution_count": null,
      "outputs": [
        {
          "output_type": "stream",
          "name": "stdout",
          "text": [
            "請輸入購物金額:12000\n",
            "九五折 11400.0元\n"
          ]
        }
      ]
    },
    {
      "cell_type": "code",
      "source": [
        "month = int(input(\"請輸入月份:\"))\n",
        "if (3 <= month <= 5):\n",
        "  print(\"x月是春天\")\n",
        "elif (6 <= month <= 8):\n",
        "  print(\"x月是夏天\")\n",
        "elif (9 <= month <= 11):\n",
        "  print(\"x月是秋天\")\n",
        "elif (month ==12 or 1<= month <= 2):\n",
        "  print(\"x月是冬天\")\n",
        "else:\n",
        "  print(\"月份不在範圍內!\")"
      ],
      "metadata": {
        "colab": {
          "base_uri": "https://localhost:8080/"
        },
        "id": "JA_KGnlKX8tJ",
        "outputId": "b644f64b-abfa-4fce-f7f1-a5da5c4f0f18"
      },
      "execution_count": null,
      "outputs": [
        {
          "output_type": "stream",
          "name": "stdout",
          "text": [
            "請輸入月份:5\n",
            "x月是春天\n"
          ]
        }
      ]
    },
    {
      "cell_type": "code",
      "source": [
        "revenue = int(input(\"請輸今年收入淨額:\"))\n",
        "if (revenue >= 300000):\n",
        "  if (revenue >= 2000000):\n",
        "    print(\"付稅金額\", revenue *0.3, end = \"元\\n\")\n",
        "  elif(revenue >= 1000000 and revenue <= 2000000):\n",
        "    print(\"付稅金額\", revenue *0.21, end = \"元\\n\")\n",
        "  elif(revenue >= 600000 and revenue <= 1000000):\n",
        "    print(\"付稅金額\", revenue *0.13, end = \"元\\n\")\n",
        "  elif(revenue >= 300000 and revenue<= 600000):\n",
        "    print(\"付稅金額\", revenue *0.06, end = \"元\\n\")\n",
        "else:\n",
        "  print(\"付稅金額0元\")\n"
      ],
      "metadata": {
        "id": "O067gbsLmYKb",
        "colab": {
          "base_uri": "https://localhost:8080/"
        },
        "outputId": "ae3eed58-b436-4062-e5f6-3aed8ce113a0"
      },
      "execution_count": 2,
      "outputs": [
        {
          "output_type": "stream",
          "name": "stdout",
          "text": [
            "請輸今年收入淨額:550000\n",
            "付稅金額 33000.0元\n"
          ]
        }
      ]
    }
  ]
}